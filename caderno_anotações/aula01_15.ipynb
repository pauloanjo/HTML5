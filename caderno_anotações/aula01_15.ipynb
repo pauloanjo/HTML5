{
 "cells": [
  {
   "cell_type": "markdown",
   "metadata": {},
   "source": [
    "## Aula 01 - Começa o novo curso de HTML5 e CSS3\n",
    "\n"
   ]
  },
  {
   "cell_type": "markdown",
   "metadata": {},
   "source": [
    "Html5 e CSS5\n",
    "\n",
    "![HTML5](imagens/aula01.png)"
   ]
  },
  {
   "cell_type": "markdown",
   "metadata": {},
   "source": [
    "## Aula 02 - O que vamos aprender no módulo 1"
   ]
  },
  {
   "cell_type": "markdown",
   "metadata": {},
   "source": []
  },
  {
   "cell_type": "markdown",
   "metadata": {},
   "source": [
    "## Aula 03 - Repositórios públicos:"
   ]
  },
  {
   "cell_type": "markdown",
   "metadata": {},
   "source": [
    "- github.com/gustavoguanabara\n",
    "- gustavoguanabara.github.io"
   ]
  },
  {
   "cell_type": "markdown",
   "metadata": {},
   "source": [
    "## Aula 04  - Aula explicativa"
   ]
  },
  {
   "cell_type": "markdown",
   "metadata": {},
   "source": [
    "✅ Esse curso serve pra mim?\n",
    "- Me interesso por aprender a criar sites mas não sei por onde começar.\n",
    "- Já tentei outros cursos, mas acho confuso decorar tantos comandos.\n",
    "- Tenho uma boa base mas quero me aprofundar nas especificações.\n",
    "- Consigo adaptar códigos prontos, mas não sei criar os meu spróprios sites.\n",
    "- Estou tendo essa disciplina e estou com dificuldades.\n",
    "- Além de aprender a criar sites, quero deixálo no ar.\n",
    "\n",
    "❌ Esse curso **NÃO** serve pra mim?\n",
    "- Eu já sei tudo sobre desenvolvimento HTML5 e CSS3. \n",
    "- Estou procurando por códigos prontos e templates para sites.\n",
    "- Estou com pressa e preciso aprender em poucas semanas.\n",
    "- Quero apenas uma lista de comandos sem papinho extra.\n",
    "- Não consigo esperar o lançamento das aulas semanais.\n",
    "- Prefiro consultar a documentção oficial das linguagens."
   ]
  },
  {
   "cell_type": "markdown",
   "metadata": {},
   "source": [
    "## Aula 05  - Capitulo 01 - Melhores livros para aprender HTML5 e CSS3"
   ]
  },
  {
   "cell_type": "markdown",
   "metadata": {},
   "source": [
    "- Material de apoio - ebook história da internet.\n",
    "- Referências on-line *(MDN, W3CStandards, WHATWG Living Standard, W3Cschools )*\n",
    "- Livros: \n",
    "   - HTML5 - Mark Pilgrim\n",
    "   - CSS - Mark Eric Meyer\n",
    "   - Flexbox in CSS - Estelle Weyl\n",
    "   - Grid Layout in CSS - Eric Meyer\n",
    "   - HTML5 e CSS3 - Elizabeth Castro e Bruce Hyslop\n",
    "   - HTML5 e CSS3 - Jon Duckett\n",
    "   - HTML5 e CSS3 - Elizabeth Robson e Eric Freeman\n",
    "   - Crie seu próprio site - Nate Cooper e Kim Gee\n",
    "   - HTML5 e CSS3 - Mauricio Samy Silva (dinossauro das  CSSs)\n",
    "   - Curso de design gráfico - David Dabner e ouros\n",
    "   - Designer - Bob e Maggie Gordon\n",
    "   - A psicologia das cores - Eva Heller\n",
    "   - Pensar com tipos - Ellen Lupton\n",
    "   - FLEXBOX EXPLAINED - Jorge Montoyo e Stephen Burge\n",
    "   - CSS GRID EXPLAINED - Jorge Montoyo e Stephen Burge\n",
    "   - HTML5 - Bill Sanders\n",
    "   - CSS - Eric Meyer"
   ]
  },
  {
   "cell_type": "markdown",
   "metadata": {},
   "source": [
    "## Aula 06  - Como a internet chega na minha casa?"
   ]
  },
  {
   "cell_type": "markdown",
   "metadata": {},
   "source": [
    "- O termo *INTERNET* surgiu da arpanet\n",
    "- Mapas das interconexões via cabo pelo mundo - **www.submarinecablemap.com**\n",
    "- Como funciona a internet _How does the internet work? https://youtu.be/TNQsmPf24go?feature=shared_\n",
    "- Como era a Internet? Somente modo texto...\n",
    "- Em 1993 *Tim Bernes-Lee* criou o protocolo e linguagem de internet para _http://_ hyper text markup linguage \n",
    "- www - World Wide Web\n",
    "\n",
    "\n",
    "\n",
    "![www](imagens/aula06.png)\n"
   ]
  },
  {
   "cell_type": "markdown",
   "metadata": {},
   "source": [
    "## Aula 07  - Como funciona a internet?"
   ]
  },
  {
   "cell_type": "markdown",
   "metadata": {},
   "source": [
    "- Representação de dados:\n",
    "\n",
    "![](imagens/aula07a.png)\n",
    "\n",
    "-Multiplos do Byte:\n",
    "\n",
    "![](imagens/aula07b.png)"
   ]
  },
  {
   "cell_type": "markdown",
   "metadata": {},
   "source": [
    "- Como nos conectamos?\n",
    "\n",
    "![](imagens/aula07c.png)\n"
   ]
  },
  {
   "cell_type": "markdown",
   "metadata": {},
   "source": [
    "- Como acessamos servidores?\n",
    "\n",
    "![](imagens/aula07d.png)\n",
    "\n",
    "Descobrir o ip - _https://www.iplocation.net/_"
   ]
  },
  {
   "cell_type": "markdown",
   "metadata": {},
   "source": [
    "- E as rotas?\n",
    "\n",
    "![](imagens/aula07e.png)"
   ]
  },
  {
   "cell_type": "markdown",
   "metadata": {},
   "source": [
    "## Aula 08  - O que é domínio e hospedagem?"
   ]
  },
  {
   "cell_type": "markdown",
   "metadata": {},
   "source": [
    "![servidor](imagens/aula07a.png)\n",
    "\n",
    "\n",
    "1. **Dominio** é nome que identifica o seu site:\n",
    "   1. Nome único;\n",
    "   2. Pago anualmente.\n",
    "   3. TLDs\n",
    "2. **Hospedagem** é o local onde o seu site vai estar armazenado. \n",
    "   1. Espaço para armazenar os arquivos do site.\n",
    "   2. Espaço, memória, recusos, suporte a BD, etc.\n",
    "\n",
    "- URL - localizador de recurso único\n",
    "\n",
    "![](imagens/aula07b.png)\n",
    "\n",
    "\n",
    "![](imagens/aula07c.png)"
   ]
  },
  {
   "cell_type": "markdown",
   "metadata": {},
   "source": [
    "## Aula 09  - A diferença entre HTML, CSS e JavaScript"
   ]
  },
  {
   "cell_type": "markdown",
   "metadata": {},
   "source": []
  }
 ],
 "metadata": {
  "kernelspec": {
   "display_name": ".venv",
   "language": "python",
   "name": "python3"
  },
  "language_info": {
   "name": "python",
   "version": "3.12.4"
  }
 },
 "nbformat": 4,
 "nbformat_minor": 2
}
