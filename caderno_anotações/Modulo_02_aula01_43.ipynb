{
 "cells": [
  {
   "cell_type": "markdown",
   "metadata": {},
   "source": [
    "## Capitulo 13 - Aula 01 - O que vamos aprender no módulo 2?"
   ]
  },
  {
   "cell_type": "markdown",
   "metadata": {},
   "source": [
    "- Detalhes das aulas do módulo 2"
   ]
  },
  {
   "cell_type": "markdown",
   "metadata": {},
   "source": [
    "- Responsividade"
   ]
  },
  {
   "cell_type": "markdown",
   "metadata": {},
   "source": [
    "## Capitulo 13 - Aula 02 - Pisicologia das cores"
   ]
  },
  {
   "cell_type": "markdown",
   "metadata": {},
   "source": [
    "- Exemplos de sites mostrando como as cores são importantes. "
   ]
  },
  {
   "cell_type": "markdown",
   "metadata": {},
   "source": [
    "## Capitulo 13 - Aula 03 - Representando cores com CSS"
   ]
  },
  {
   "cell_type": "markdown",
   "metadata": {},
   "source": [
    "- 4 formas de representar as cores + transparência"
   ]
  },
  {
   "cell_type": "markdown",
   "metadata": {},
   "source": [
    "## Capitulo 13 - Aula 04 - Harmonia das cores"
   ]
  },
  {
   "cell_type": "markdown",
   "metadata": {},
   "source": [
    "- Círculo Cromático \n",
    "   - 12 cores principais:\n",
    "      - Cores primárias: \n",
    "         1. Amarelo\n",
    "         2. Azul\n",
    "         3. Vermelho\n",
    "      - Cores Secundárias:\n",
    "         1. Verde\n",
    "         2. Laranja\n",
    "         3. Violeta\n",
    "      - Cores Terciarias:\n",
    "         1. Amarelo-esverdeado Amarelo alaranjado\n",
    "         2. Vermelho-Alaranjado, Vermelho-arroxeado\n",
    "         3. Azul-arroxeado, Azul-esverdeado"
   ]
  },
  {
   "cell_type": "markdown",
   "metadata": {},
   "source": [
    "- Temperatura de cores:\n",
    "   - Cores frias\n",
    "   - Cores quentes\n",
    "\n",
    "Classificação:\n",
    "   - Cores complementares - cores postas\n",
    "   - Cores análogas - cores ao lado\n",
    "   - Cores análogas relacionadas - degradê\n",
    "   - Cores intercaladas - \n",
    "      1. Cores triádicas (triâmgulo equilatero)\n",
    "      2. Cores em quadrado\n",
    "      3. Cores tetrádicas\n",
    "   - Monocomia - cores com (saturação e luminosidade)"
   ]
  },
  {
   "cell_type": "markdown",
   "metadata": {},
   "source": [
    "## Capitulo 13 - Aula 05 - Paleta de cores"
   ]
  },
  {
   "cell_type": "markdown",
   "metadata": {},
   "source": [
    "- Adobe colors _https://color.adobe.com/pt/create/color-wheel_\n",
    "- Paletton _https://paletton.com/#uid=1000u0kllllaFw0g0qFqFg0w0aF_\n",
    "- Coolors _https://coolors.co/_"
   ]
  },
  {
   "cell_type": "markdown",
   "metadata": {},
   "source": [
    "## Capitulo 13 - Aula 06 - Como capturar cores da tela"
   ]
  },
  {
   "cell_type": "markdown",
   "metadata": {},
   "source": [
    "- Com o GIMP, só utilizar a ferramenta conta gotas.\n",
    "- Com o navegador google Chrome, só ustilizar a extensão colorzilla"
   ]
  },
  {
   "cell_type": "markdown",
   "metadata": {},
   "source": [
    "## Capitulo 13 - Aula 07 - Como criar degradê com CSS"
   ]
  },
  {
   "cell_type": "markdown",
   "metadata": {},
   "source": [
    "- Trabalhando com a pasta exe016 - cor02"
   ]
  },
  {
   "cell_type": "markdown",
   "metadata": {},
   "source": [
    "## Capitulo 13 - Aula 08 - Criando um exemplo real"
   ]
  },
  {
   "cell_type": "markdown",
   "metadata": {},
   "source": [
    "- Trabalhando com a pasta exe016 - cor03"
   ]
  },
  {
   "cell_type": "markdown",
   "metadata": {},
   "source": [
    "## Capitulo 14 - Aula 09 - Primeiros passos em tipografia"
   ]
  },
  {
   "cell_type": "markdown",
   "metadata": {},
   "source": [
    "- A parte teórica é importante para chegar na prática.\n",
    "- Tipografia - tipos de letra."
   ]
  },
  {
   "cell_type": "markdown",
   "metadata": {},
   "source": [
    "## Capitulo 14 - Aula 10 - Anatomia do tipo"
   ]
  },
  {
   "cell_type": "markdown",
   "metadata": {},
   "source": [
    "- Tipo é cada uma das letras (grifos)\n",
    "- Parte Geometrica\n"
   ]
  },
  {
   "cell_type": "markdown",
   "metadata": {},
   "source": [
    "## Capitulo 14 - Aula 11 - Familia de fonte com CSS"
   ]
  },
  {
   "cell_type": "markdown",
   "metadata": {},
   "source": [
    "- Trabalhando com a pasta exe017 - font01.html\n",
    "- Estilos de fontes "
   ]
  },
  {
   "cell_type": "markdown",
   "metadata": {},
   "source": [
    "## Capitulo 14 - Aula 12 - Tamanho de fonte e suas medida"
   ]
  },
  {
   "cell_type": "markdown",
   "metadata": {},
   "source": [
    "- Trabalhando com a pasta exe017 - font01.html\n",
    "- Alterando tamanhos de fontes\n",
    "- Recomendação sempre que possível trabalhar com padrão \"em\""
   ]
  },
  {
   "cell_type": "markdown",
   "metadata": {},
   "source": [
    "## Capitulo 14 - Aula 13 - Peso, estilo e shorthand font"
   ]
  },
  {
   "cell_type": "markdown",
   "metadata": {},
   "source": [
    "- Trabalhando com a pasta exe017 - font01.html\n",
    "- shorthand: font-style -> font-weight -> font-size -> font-family "
   ]
  },
  {
   "cell_type": "markdown",
   "metadata": {},
   "source": [
    "## Capitulo 14 - Aula 14 - Usando google fonts"
   ]
  },
  {
   "cell_type": "markdown",
   "metadata": {},
   "source": [
    "- Trabalhando com a pasta exe018 - font01.html\n",
    "- Google fonts _https://fonts.google.com_"
   ]
  },
  {
   "cell_type": "markdown",
   "metadata": {},
   "source": [
    "## Capitulo 14 - Aula 15 - Usando fontes externas"
   ]
  },
  {
   "cell_type": "markdown",
   "metadata": {},
   "source": [
    "- Trabalhando com a pasta exe018 - font02.html\n",
    "- Instalando fontes baixadas na internet - _https://www.dafont.com/pt/_"
   ]
  },
  {
   "cell_type": "markdown",
   "metadata": {},
   "source": [
    "## Capitulo 14 - Aula 16 - Capturando as fontes usadas"
   ]
  },
  {
   "cell_type": "markdown",
   "metadata": {},
   "source": [
    "- Trabalhando com a pasta exe018 - font02.html"
   ]
  },
  {
   "cell_type": "markdown",
   "metadata": {},
   "source": [
    "## Capitulo 14 - Aula 17 - Detectando fontes dentro de vídeos"
   ]
  },
  {
   "cell_type": "markdown",
   "metadata": {},
   "source": [
    "- Trabalhando com a pasta exe018 - font02.html\n",
    "- Site 1: _https://www.whatfontis.com/_\n",
    "- Site 2: _https://www.fontsquirrel.com/_\n",
    "- Site 3: _https://www.myfonts.com/_"
   ]
  },
  {
   "cell_type": "markdown",
   "metadata": {},
   "source": [
    "## Capitulo 14 - Aula 18 - Alinhamento de textos com CSS"
   ]
  },
  {
   "cell_type": "markdown",
   "metadata": {},
   "source": [
    "- Trabalhando com a pasta exe017 - font02.html"
   ]
  },
  {
   "cell_type": "markdown",
   "metadata": {},
   "source": [
    "## Capitulo 15 - Aula 19 - Usando o ID com CSS"
   ]
  },
  {
   "cell_type": "markdown",
   "metadata": {},
   "source": [
    "- Trabalhando com a pasta exe019 - seletor01.html\n",
    "- Aprendendo o seletor id"
   ]
  },
  {
   "cell_type": "markdown",
   "metadata": {},
   "source": [
    "## Capitulo 15 - Aula 20 - As diferenças entre ID e CLASS"
   ]
  },
  {
   "cell_type": "markdown",
   "metadata": {},
   "source": [
    "- Trabalhando com a pasta exe019 - seletor01.html\n",
    "- Aprendendo o seletor class, herança\n",
    "   - primeiro você configura o generico;\n",
    "   - segundo class;\n",
    "   - terceiro id."
   ]
  },
  {
   "cell_type": "markdown",
   "metadata": {},
   "source": [
    "## Capitulo 15 - Aula 21 - Pseudo-classes em CSS"
   ]
  },
  {
   "cell_type": "markdown",
   "metadata": {},
   "source": [
    "- Trabalhando com a pasta exe020 - pseudoclasse.html e hover.html"
   ]
  },
  {
   "cell_type": "markdown",
   "metadata": {},
   "source": [
    "## Capitulo 15 - Aula 22 - Pseudo elementos em CSS"
   ]
  },
  {
   "cell_type": "markdown",
   "metadata": {},
   "source": [
    "- Trabalhando com a pasta exe020\n",
    "   - pseudoclasse.html\n",
    "   - hover.html\n",
    "   - links.html\n",
    "\n",
    "- site para simbolos - _https://erikasarti.com/html/dingbats-simbolos-desenhos/_\n",
    "\n",
    "Identificação:\n",
    "   - '#'  = id\n",
    "   - '.'  = class\n",
    "   - ':'  = pseudo-class\n",
    "   - '::' = pseudo-elemento \n",
    "   - '>'  = children"
   ]
  },
  {
   "cell_type": "markdown",
   "metadata": {},
   "source": [
    "## Capitulo 16 - Aula 23 - Modelo de caixas: primeiros passos"
   ]
  },
  {
   "cell_type": "markdown",
   "metadata": {},
   "source": [
    "- Aula explicativa dos modelos de caixa\n",
    "- Tipos de caixa:\n",
    "   - box-level - será desenhada numa nova linha (ex: < div >)\n",
    "   - inline-level - será desenha no restante da liha ou espaço da linha (ex: < span >)\n",
    "   \n",
    "\n",
    "![](imagens/aula24a.png)"
   ]
  },
  {
   "cell_type": "markdown",
   "metadata": {},
   "source": [
    "## Capitulo 16 - Aula 24 - Modelo de caixas na prática (parte 1)"
   ]
  },
  {
   "cell_type": "markdown",
   "metadata": {},
   "source": [
    "- Trabalhando com a pasta exe021 - caixa01.html"
   ]
  },
  {
   "cell_type": "markdown",
   "metadata": {},
   "source": [
    "## Capitulo 16 - Aula 25 - Modelo de caixas na prática (parte 2)"
   ]
  },
  {
   "cell_type": "markdown",
   "metadata": {},
   "source": [
    "- Trabalhando com a pasta exe021 - caixa01.html"
   ]
  },
  {
   "cell_type": "markdown",
   "metadata": {},
   "source": [
    "## Capitulo 16 - Aula 26 - Grouping Tags em HTML5"
   ]
  },
  {
   "cell_type": "markdown",
   "metadata": {},
   "source": [
    "- Trabalhando com a pasta exe021 - caixa02.html\n",
    "- Esqueleto de construção de site"
   ]
  },
  {
   "cell_type": "markdown",
   "metadata": {},
   "source": [
    "## Capitulo 16 - Aula 27 - Sombra nas caixas"
   ]
  },
  {
   "cell_type": "markdown",
   "metadata": {},
   "source": [
    "- Trabalhando com a pasta exe021 - caixa02.html\n",
    "- Exemplo de como criar e editar o box-shadow via navegador."
   ]
  },
  {
   "cell_type": "markdown",
   "metadata": {},
   "source": [
    "## Capitulo 16 - Aula 28 - Caixas com vértices arrendodados"
   ]
  },
  {
   "cell_type": "markdown",
   "metadata": {},
   "source": [
    "- Trabalhando com a pasta exe021 - caixa02.html\n",
    "- Exemplo de como criar e editar o box-shadow via navegador\n",
    "- Exemplo de desenhar circuferências."
   ]
  },
  {
   "cell_type": "markdown",
   "metadata": {},
   "source": [
    "## Capitulo 16 - Aula 29 - Bordas decoradas"
   ]
  },
  {
   "cell_type": "markdown",
   "metadata": {},
   "source": [
    "- Trabalhando com a pasta exe021 - caixa03.html\n",
    "- Criando uma borda personalizada"
   ]
  },
  {
   "cell_type": "markdown",
   "metadata": {},
   "source": [
    "## Capitulo 16 - Aula 30 - Desafio do módulo 2"
   ]
  },
  {
   "cell_type": "markdown",
   "metadata": {},
   "source": [
    "- Desafio 10"
   ]
  },
  {
   "cell_type": "markdown",
   "metadata": {},
   "source": [
    "## Capitulo 17 - Aula 31 - Criando um projeto a partir do zero"
   ]
  },
  {
   "cell_type": "markdown",
   "metadata": {},
   "source": [
    "- Trabalhando com a pasta desafios/d010 - android.html\n",
    "- Baixando os arquivos necessários do site do guanabara"
   ]
  },
  {
   "cell_type": "markdown",
   "metadata": {},
   "source": [
    "## Capitulo 17 - Aula 32 - Navegando pelo projeto pronto"
   ]
  },
  {
   "cell_type": "markdown",
   "metadata": {},
   "source": [
    "- Trabalhando com a pasta desafios/d010 - android.html\n",
    "\n"
   ]
  },
  {
   "cell_type": "markdown",
   "metadata": {},
   "source": [
    "## Capitulo 17 - Aula 33 - Planejando a estrutura do seu site"
   ]
  },
  {
   "cell_type": "markdown",
   "metadata": {},
   "source": [
    "- Trabalhando com a pasta desafios/d010 - android.html\n",
    "- Planejamento:\n",
    "   - Layout do site _https://mockflow.com/_\n",
    "   - Cores do site _https://color.adobe.com/pt/create/color-wheel_\n",
    "   - As fontes do projeto _https://fonts.google.com/_\n",
    "\n"
   ]
  },
  {
   "cell_type": "markdown",
   "metadata": {},
   "source": [
    "## Capitulo 17 - Aula 34 - Transformando o layout em código"
   ]
  },
  {
   "cell_type": "markdown",
   "metadata": {},
   "source": [
    "- Trabalhando com a pasta desafios/d010 - android.html\n",
    "- Criando folha de estilos"
   ]
  },
  {
   "cell_type": "markdown",
   "metadata": {},
   "source": [
    "## Capitulo 17 - Aula 35 - Organizando o conteúdo do site"
   ]
  },
  {
   "cell_type": "markdown",
   "metadata": {},
   "source": [
    "- Trabalhando com a pasta desafios/d010 - android.html\n",
    "- Criando folha de estilos"
   ]
  },
  {
   "cell_type": "markdown",
   "metadata": {},
   "source": [
    "## Capitulo 17 - Aula 36 - Variáveis em CSS"
   ]
  },
  {
   "cell_type": "markdown",
   "metadata": {},
   "source": []
  },
  {
   "cell_type": "markdown",
   "metadata": {},
   "source": [
    "## Capitulo 17 - Aula 37 - Responsividades para sites"
   ]
  },
  {
   "cell_type": "markdown",
   "metadata": {},
   "source": []
  },
  {
   "cell_type": "markdown",
   "metadata": {},
   "source": [
    "## Capitulo 17 - Aula 38 - Responsividade na prática"
   ]
  },
  {
   "cell_type": "markdown",
   "metadata": {},
   "source": []
  },
  {
   "cell_type": "markdown",
   "metadata": {},
   "source": [
    "## Capitulo 17 - Aula 39 - Configurando o header e o menu do site"
   ]
  },
  {
   "cell_type": "markdown",
   "metadata": {},
   "source": []
  },
  {
   "cell_type": "markdown",
   "metadata": {},
   "source": [
    "## Capitulo 17 - Aula 40 - Melhorando o formato do conteúdo"
   ]
  },
  {
   "cell_type": "markdown",
   "metadata": {},
   "source": []
  },
  {
   "cell_type": "markdown",
   "metadata": {},
   "source": [
    "## Capitulo 17 - Aula 41 - Rodapé, conteúdo periférico e links"
   ]
  },
  {
   "cell_type": "markdown",
   "metadata": {},
   "source": []
  },
  {
   "cell_type": "markdown",
   "metadata": {},
   "source": [
    "## Capitulo 17 - Aula 42 - Tornando um vídeo responsivo"
   ]
  },
  {
   "cell_type": "markdown",
   "metadata": {},
   "source": []
  },
  {
   "cell_type": "markdown",
   "metadata": {},
   "source": [
    "## Capitulo 17 - Aula 43 - Fim do módulo 2: certificados liberados"
   ]
  },
  {
   "cell_type": "markdown",
   "metadata": {},
   "source": []
  }
 ],
 "metadata": {
  "kernelspec": {
   "display_name": ".venv",
   "language": "python",
   "name": "python3"
  },
  "language_info": {
   "codemirror_mode": {
    "name": "ipython",
    "version": 3
   },
   "file_extension": ".py",
   "mimetype": "text/x-python",
   "name": "python",
   "nbconvert_exporter": "python",
   "pygments_lexer": "ipython3",
   "version": "3.12.4"
  }
 },
 "nbformat": 4,
 "nbformat_minor": 2
}
