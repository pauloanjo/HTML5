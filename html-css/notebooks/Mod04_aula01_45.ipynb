{
 "cells": [
  {
   "cell_type": "markdown",
   "metadata": {},
   "source": [
    "## Capitulo 22 - Aula 01 - O que vamos aprender no módulo 4?"
   ]
  },
  {
   "cell_type": "markdown",
   "metadata": {},
   "source": [
    "- Introdução do conteúdo deste módulo"
   ]
  },
  {
   "cell_type": "markdown",
   "metadata": {},
   "source": [
    "## Capitulo 22 - Aula 02 - O iFrame ainda pode ser usado?"
   ]
  },
  {
   "cell_type": "markdown",
   "metadata": {},
   "source": [
    "- Trabalhando com a pasta exe024 - iframe001.html"
   ]
  },
  {
   "cell_type": "markdown",
   "metadata": {},
   "source": [
    "## Capitulo 22 - Aula 03 - Configurando iFrames"
   ]
  },
  {
   "cell_type": "markdown",
   "metadata": {},
   "source": [
    "- Trabalhando com a pasta exe024 - iframe001.html\n",
    "- Na hierarquia de configurações o CSS é soberano. "
   ]
  },
  {
   "cell_type": "markdown",
   "metadata": {},
   "source": [
    "## Capitulo 22 - Aula 04 - Conteúdo local no iFrames"
   ]
  },
  {
   "cell_type": "markdown",
   "metadata": {},
   "source": [
    "- Trabalhando com a pasta exe024 - iframe002.html e pag001.html"
   ]
  },
  {
   "cell_type": "markdown",
   "metadata": {},
   "source": [
    "## Capitulo 22 - Aula 05 - Navegação no iFrame"
   ]
  },
  {
   "cell_type": "markdown",
   "metadata": {},
   "source": [
    "- Trabalhando com a pasta exe024 - iframe003.html\n",
    "- pag001.html, pag002.html, pag003.html\n",
    "- Lembrando que o inframe deve possuir um **name** para ser carregado pelos links de exemplo"
   ]
  },
  {
   "cell_type": "markdown",
   "metadata": {},
   "source": [
    "## Capitulo 22 - Aula 06 - Conteúdo no iFrame por código"
   ]
  },
  {
   "cell_type": "markdown",
   "metadata": {},
   "source": [
    "- Trabalhando com a pasta exe024 - iframe003.html\n",
    "- pag001.html, pag002.html, pag003.html\n",
    "- Inserindo conteúdo dinâmico."
   ]
  },
  {
   "cell_type": "markdown",
   "metadata": {},
   "source": [
    "## Capitulo 22 - Aula 07 - Inconvenientes do iFrame"
   ]
  },
  {
   "cell_type": "markdown",
   "metadata": {},
   "source": [
    "- Coleta de informações pelo google bots para indexação de sites.\n",
    "- Evite utilizar conteúdo muito importante dentro de iframe."
   ]
  },
  {
   "cell_type": "markdown",
   "metadata": {},
   "source": [
    "## Capitulo 22 - Aula 08 - Tornando iFrames mais seguros"
   ]
  },
  {
   "cell_type": "markdown",
   "metadata": {},
   "source": [
    "- Trabalhando com a pasta exe024 - iframe005.html \n",
    "- Cria uma proteção contra ataques, não captura nenhum dado so iframe _sandbox=\"sandbox\"_\n",
    "- O conteúdo carregado no iframe não coleta nenhum tipo de dados no iframe _referrerpolicy=\"no-referrer\"_\n",
    "- Segurança máxima: sandbox=\"sandbox\"\n",
    "- Se precisar desligar o sandbox:\n",
    "   - Permitir da mesma origem\n",
    "      - allow-same-origin - \n",
    "      - allow-forms\n",
    "      - allow-scripts\n"
   ]
  },
  {
   "cell_type": "markdown",
   "metadata": {},
   "source": [
    "## Capitulo 22 - Aula 09 - Dicas para iFrames melhores"
   ]
  },
  {
   "cell_type": "markdown",
   "metadata": {},
   "source": [
    "- Trabalhando com a pasta exe024 - iframe006.html \n",
    "\n"
   ]
  },
  {
   "cell_type": "markdown",
   "metadata": {},
   "source": [
    "## Capitulo 23 - Aula 10 - Criando um projeto do zero"
   ]
  },
  {
   "cell_type": "markdown",
   "metadata": {},
   "source": [
    "- Apresentação do projeto\n",
    "\n"
   ]
  },
  {
   "cell_type": "markdown",
   "metadata": {},
   "source": [
    "## Capitulo 23 - Aula 11 - Vamos começar o projeto"
   ]
  },
  {
   "cell_type": "markdown",
   "metadata": {},
   "source": [
    "- Trabalhando com o repositório projeto-social"
   ]
  },
  {
   "cell_type": "markdown",
   "metadata": {},
   "source": [
    "## Capitulo 23 - Aula 12 - Criando a página inicial do projeto"
   ]
  },
  {
   "cell_type": "markdown",
   "metadata": {},
   "source": [
    "- Trabalhando com o repositório projeto-social\n"
   ]
  },
  {
   "cell_type": "markdown",
   "metadata": {},
   "source": [
    "## Capitulo 23 - Aula 13 - Personalizando as imagens do projeto"
   ]
  },
  {
   "cell_type": "markdown",
   "metadata": {},
   "source": [
    "- Trabalhando com o repositório projeto-social"
   ]
  },
  {
   "cell_type": "markdown",
   "metadata": {},
   "source": [
    "## Capitulo 23 - Aula 14 - Criando os botões para as redes sociais"
   ]
  },
  {
   "cell_type": "markdown",
   "metadata": {},
   "source": [
    "- Trabalhando com o repositório projeto-social"
   ]
  },
  {
   "cell_type": "markdown",
   "metadata": {},
   "source": [
    "## Capitulo 23 - Aula 15 - Criando as páginas de cada rede social"
   ]
  },
  {
   "cell_type": "markdown",
   "metadata": {},
   "source": [
    "- Trabalhando com o repositório projeto-social"
   ]
  },
  {
   "cell_type": "markdown",
   "metadata": {},
   "source": [
    "## Capitulo 23 - Aula 16 - Personalizando as imagens do projeto"
   ]
  },
  {
   "cell_type": "markdown",
   "metadata": {},
   "source": [
    "- Trabalhando com o repositório projeto-social"
   ]
  },
  {
   "cell_type": "markdown",
   "metadata": {},
   "source": [
    "## Capitulo 24 - Aula 17 - Como criar formulários com HTML"
   ]
  },
  {
   "cell_type": "markdown",
   "metadata": {},
   "source": [
    "- Trabalhando com a pasta exe025 - form001.html"
   ]
  },
  {
   "cell_type": "markdown",
   "metadata": {},
   "source": [
    "## Capitulo 24 - Aula 18 - Usar Label vai melhorar seus formulários"
   ]
  },
  {
   "cell_type": "markdown",
   "metadata": {},
   "source": [
    "- Trabalhando com a pasta exe025 - form001.html\n",
    "- Desabilita o autocompletar do navegador --> autocomplete=\"off\"\n",
    "- O label utiliza o id do [ input ] para se relacionar-se\n",
    "- O PHP utiliza o [ name ]"
   ]
  },
  {
   "cell_type": "markdown",
   "metadata": {},
   "source": [
    "## Capitulo 24 - Aula 19 - Métodos GET e POST para formulários"
   ]
  },
  {
   "cell_type": "markdown",
   "metadata": {},
   "source": [
    "- Trabalhando com a pasta exe025 - form001.html\n",
    "- Use o metodo GET quando os dados não forem sensiveis (nome, endereço, altura, peso, etc) e queira compartilhar a url, não pode ultrassar 3k bytes de dados\n",
    "- Use o metodo POST quando os dados forem sensiveis (dados pessoais, dados bancários, senhas, etc), for enviar mais de 3k bytes de dados "
   ]
  },
  {
   "cell_type": "markdown",
   "metadata": {},
   "source": [
    "## Capitulo 24 - Aula 20 - Criando caixas de texto e de senha"
   ]
  },
  {
   "cell_type": "markdown",
   "metadata": {},
   "source": [
    "- Trabalhando com a pasta exe025 - form002.html\n",
    "- Atributos informados no formulário:\n",
    "   - required \n",
    "   - minlength  \n",
    "   - maxlength\n",
    "   - size\n",
    "   - placeholder \n",
    "   - autocomplete"
   ]
  },
  {
   "cell_type": "markdown",
   "metadata": {},
   "source": [
    "## Capitulo 24 - Aula 21 - Elementos number, month, date e time em formulários"
   ]
  },
  {
   "cell_type": "markdown",
   "metadata": {},
   "source": [
    "- Trabalhando com a pasta exe025 - form003.html"
   ]
  },
  {
   "cell_type": "markdown",
   "metadata": {},
   "source": [
    "## Capitulo 24 - Aula 22 - Compatibilidade com navegadores"
   ]
  },
  {
   "cell_type": "markdown",
   "metadata": {},
   "source": [
    "- Trabalhando com a pasta exe025 - form003.html"
   ]
  },
  {
   "cell_type": "markdown",
   "metadata": {},
   "source": [
    "## Capitulo 24 - Aula 23 - Formmulários com telefone e e-mail"
   ]
  },
  {
   "cell_type": "markdown",
   "metadata": {},
   "source": [
    "- Trabalhando com a pasta exe025 - form004.html\n",
    "- Utilizando fieldset, email, tel"
   ]
  },
  {
   "cell_type": "markdown",
   "metadata": {},
   "source": [
    "## Capitulo 24 - Aula 24 - Checkbox e Radio button em HTML"
   ]
  },
  {
   "cell_type": "markdown",
   "metadata": {},
   "source": [
    "- Trabalhando com a pasta exe025 - form005.html\n",
    "- Botões de radio precisam ter o mesmo NAME:  [ name='sexo' ] e ID diferente"
   ]
  },
  {
   "cell_type": "markdown",
   "metadata": {},
   "source": [
    "## Capitulo 24 - Aula 25 - Elementos color,range e file em HTML"
   ]
  },
  {
   "cell_type": "markdown",
   "metadata": {},
   "source": [
    "- Trabalhando com a pasta exe025 - form006.html\n",
    "- Controle de envio de arquivos devem ser pelo metodo 'POST'"
   ]
  },
  {
   "cell_type": "markdown",
   "metadata": {},
   "source": [
    "## Capitulo 24 - Aula 26 - Select, datalist e textarea em HTML"
   ]
  },
  {
   "cell_type": "markdown",
   "metadata": {},
   "source": [
    "- Trabalhando com a pasta exe025 - form007.html\n",
    "- Para utilizar o 'TEXTAREA', sempre use o metodo 'POST' por conta so tamanho dos bytes.\n"
   ]
  },
  {
   "cell_type": "markdown",
   "metadata": {},
   "source": [
    "## Capitulo 24 - Aula 27 - Elementos output em formulários"
   ]
  },
  {
   "cell_type": "markdown",
   "metadata": {},
   "source": [
    "- Trabalhando com a pasta exe025 \n",
    "   - form008.html\n",
    "   - form009.html\n",
    "   - form010.html"
   ]
  },
  {
   "cell_type": "markdown",
   "metadata": {},
   "source": [
    "## Capitulo 25 - Aula 28 - O que são Media Queries em CSS"
   ]
  },
  {
   "cell_type": "markdown",
   "metadata": {},
   "source": [
    "- Aula teórica sobre media queries"
   ]
  },
  {
   "cell_type": "markdown",
   "metadata": {},
   "source": [
    "## Capitulo 26 - Aula 29 - Criando um site com versão para impressora"
   ]
  },
  {
   "cell_type": "markdown",
   "metadata": {},
   "source": [
    "Trabalhando com a pasta exe026/mq001 - index.html"
   ]
  },
  {
   "cell_type": "markdown",
   "metadata": {},
   "source": [
    "## Capitulo 26 - Aula 30 - Múltiplas media Features com CSS"
   ]
  },
  {
   "cell_type": "markdown",
   "metadata": {},
   "source": [
    "- Trabalhando com a pasta exe026/mq002 - index.html\n",
    "- media query = media type (tipos) + media features (caracteristicas)\n",
    "- Exemplos:\n",
    "    - media=\"screen and (orientation: portrait)\"\n",
    "    - media=\"screen and (orientation: landscape)\""
   ]
  },
  {
   "cell_type": "markdown",
   "metadata": {},
   "source": [
    "## Capitulo 26 - Aula 31 - Seguindo a orientação do dispositivo"
   ]
  },
  {
   "cell_type": "markdown",
   "metadata": {},
   "source": []
  },
  {
   "cell_type": "markdown",
   "metadata": {},
   "source": [
    "## Capitulo 26 - Aula 32 - Reunindo tudo em um único CSS"
   ]
  },
  {
   "cell_type": "markdown",
   "metadata": {},
   "source": []
  },
  {
   "cell_type": "markdown",
   "metadata": {},
   "source": [
    "## Capitulo 26 - Aula 33 - Mobile First"
   ]
  },
  {
   "cell_type": "markdown",
   "metadata": {},
   "source": []
  },
  {
   "cell_type": "markdown",
   "metadata": {},
   "source": [
    "## Capitulo 26 - Aula 34 - Iniciando um site mobile first"
   ]
  },
  {
   "cell_type": "markdown",
   "metadata": {},
   "source": []
  },
  {
   "cell_type": "markdown",
   "metadata": {},
   "source": [
    "## Capitulo 26 - Aula 35 - Device Breakpoints "
   ]
  },
  {
   "cell_type": "markdown",
   "metadata": {},
   "source": []
  },
  {
   "cell_type": "markdown",
   "metadata": {},
   "source": [
    "## Capitulo 26 - Aula 36 - Menu responsivo com HTML e CSS"
   ]
  },
  {
   "cell_type": "markdown",
   "metadata": {},
   "source": []
  },
  {
   "cell_type": "markdown",
   "metadata": {},
   "source": [
    "## Capitulo 26 - Aula 37 - Configurando o layout do projeto"
   ]
  },
  {
   "cell_type": "markdown",
   "metadata": {},
   "source": []
  },
  {
   "cell_type": "markdown",
   "metadata": {},
   "source": [
    "## Capitulo 26 - Aula 38 - Criando um menu hambúrguer"
   ]
  },
  {
   "cell_type": "markdown",
   "metadata": {},
   "source": []
  },
  {
   "cell_type": "markdown",
   "metadata": {},
   "source": [
    "## Capitulo 26 - Aula 39 - Media Queries para outros dispositivos"
   ]
  },
  {
   "cell_type": "markdown",
   "metadata": {},
   "source": []
  },
  {
   "cell_type": "markdown",
   "metadata": {},
   "source": [
    "## Capitulo 26 - Aula 40 - Tela de login responsiva só com HTML e CSS"
   ]
  },
  {
   "cell_type": "markdown",
   "metadata": {},
   "source": []
  },
  {
   "cell_type": "markdown",
   "metadata": {},
   "source": [
    "## Capitulo 26 - Aula 41 - Versão mobile first da tela de login"
   ]
  },
  {
   "cell_type": "markdown",
   "metadata": {},
   "source": []
  },
  {
   "cell_type": "markdown",
   "metadata": {},
   "source": [
    "## Capitulo 26 - Aula 42 - Outras Media Queries para o projeto"
   ]
  },
  {
   "cell_type": "markdown",
   "metadata": {},
   "source": []
  },
  {
   "cell_type": "markdown",
   "metadata": {},
   "source": [
    "## Capitulo 26 - Aula 43 - Criando um formulário de login"
   ]
  },
  {
   "cell_type": "markdown",
   "metadata": {},
   "source": []
  },
  {
   "cell_type": "markdown",
   "metadata": {},
   "source": [
    "## Capitulo 26 - Aula 44 - Aplicando estilo ao formulário de login"
   ]
  },
  {
   "cell_type": "markdown",
   "metadata": {},
   "source": []
  },
  {
   "cell_type": "markdown",
   "metadata": {},
   "source": [
    "## Capitulo 26 - Aula 45 - Finalizando o projeto de tela de login"
   ]
  },
  {
   "cell_type": "markdown",
   "metadata": {},
   "source": []
  }
 ],
 "metadata": {
  "language_info": {
   "name": "python"
  }
 },
 "nbformat": 4,
 "nbformat_minor": 2
}
